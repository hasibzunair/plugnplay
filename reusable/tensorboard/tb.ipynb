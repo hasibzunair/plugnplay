{
 "cells": [
  {
   "cell_type": "code",
   "execution_count": null,
   "metadata": {},
   "outputs": [],
   "source": [
    "import torch\n",
    "from torch.utils.tensorboard import SummaryWriter\n",
    "writer = SummaryWriter()\n",
    "\n",
    "# https://pytorch.org/tutorials/recipes/recipes/tensorboard_with_pytorch.html"
   ]
  },
  {
   "cell_type": "code",
   "execution_count": null,
   "metadata": {},
   "outputs": [],
   "source": [
    "x = torch.arange(-5, 5, 0.1).view(-1, 1)\n",
    "y = -5 * x + 0.1 * torch.randn(x.size())\n",
    "\n",
    "model = torch.nn.Linear(1, 1)\n",
    "criterion = torch.nn.MSELoss()\n",
    "optimizer = torch.optim.SGD(model.parameters(), lr = 0.1)\n",
    "\n",
    "def train_model(iter):\n",
    "    for epoch in range(iter):\n",
    "        y1 = model(x)\n",
    "        loss = criterion(y1, y)\n",
    "        writer.add_scalar(\"Loss/train\", loss, epoch) # log loss value and epoch to tensorboard\n",
    "        optimizer.zero_grad()\n",
    "        loss.backward()\n",
    "        optimizer.step()\n",
    "\n",
    "train_model(20)\n",
    "writer.flush()"
   ]
  },
  {
   "cell_type": "code",
   "execution_count": null,
   "metadata": {},
   "outputs": [],
   "source": [
    "writer.close()"
   ]
  },
  {
   "cell_type": "code",
   "execution_count": null,
   "metadata": {},
   "outputs": [],
   "source": [
    "# pip install tensorboard"
   ]
  },
  {
   "cell_type": "code",
   "execution_count": null,
   "metadata": {},
   "outputs": [],
   "source": [
    "!tensorboard --logdir=runs"
   ]
  },
  {
   "cell_type": "code",
   "execution_count": null,
   "metadata": {},
   "outputs": [],
   "source": []
  },
  {
   "cell_type": "code",
   "execution_count": 5,
   "metadata": {},
   "outputs": [],
   "source": [
    "import torch\n",
    "from torch.utils.tensorboard import SummaryWriter\n",
    "writer = SummaryWriter()\n",
    "\n",
    "# https://kuanhoong.medium.com/how-to-use-tensorboard-with-pytorch-e2b84aa55e67"
   ]
  },
  {
   "cell_type": "code",
   "execution_count": 6,
   "metadata": {},
   "outputs": [],
   "source": [
    "import torch \n",
    "import torchvision\n",
    "\n",
    "import numpy as np \n",
    "\n",
    "EPOCHS = 20\n",
    "BATCH_SIZE = 64\n",
    "\n",
    "xy_trainPT = torchvision.datasets.MNIST(root='./data', train=True, download=True,\n",
    "                                        transform=torchvision.transforms.Compose([torchvision.transforms.ToTensor()])) \n",
    "xy_trainPT_loader = torch.utils.data.DataLoader(xy_trainPT, batch_size=BATCH_SIZE)\n",
    "\n",
    "\n",
    "def model(hidden):\n",
    "    model= torch.nn.Sequential(            \n",
    "         torch.nn.Linear(784,hidden),\n",
    "         torch.nn.Sigmoid(), \n",
    "         torch.nn.Linear(hidden,10), \n",
    "         torch.nn.LogSoftmax(dim=1) \n",
    "         )\n",
    "    return model"
   ]
  },
  {
   "cell_type": "code",
   "execution_count": 7,
   "metadata": {},
   "outputs": [
    {
     "name": "stdout",
     "output_type": "stream",
     "text": [
      "Epoch 0 - Training loss: 2.2014525331922177\n",
      "Epoch 1 - Training loss: 1.9491813159954827\n",
      "Epoch 2 - Training loss: 1.7290470034583036\n",
      "Epoch 3 - Training loss: 1.5459727361512337\n",
      "Epoch 4 - Training loss: 1.3981965010100081\n",
      "Epoch 5 - Training loss: 1.2793571699911088\n",
      "Epoch 6 - Training loss: 1.1839009239348268\n",
      "Epoch 7 - Training loss: 1.1069349068314283\n",
      "Epoch 8 - Training loss: 1.0443190491911192\n",
      "Epoch 9 - Training loss: 0.9927536363540682\n",
      "Epoch 10 - Training loss: 0.9497086737455844\n",
      "Epoch 11 - Training loss: 0.9132829825761222\n",
      "Epoch 12 - Training loss: 0.8820578172516975\n",
      "Epoch 13 - Training loss: 0.8549725059380155\n",
      "Epoch 14 - Training loss: 0.8312282914291821\n",
      "Epoch 15 - Training loss: 0.810217549106968\n",
      "Epoch 16 - Training loss: 0.7914722482088024\n",
      "Epoch 17 - Training loss: 0.7746262768311287\n",
      "Epoch 18 - Training loss: 0.7593887987167343\n",
      "Epoch 19 - Training loss: 0.745524707442916\n"
     ]
    }
   ],
   "source": [
    "modelPT = model(5)\n",
    "criterion = torch.nn.NLLLoss()\n",
    "optimizer = torch.optim.SGD(modelPT.parameters(), lr=0.01)\n",
    "\n",
    "writer = SummaryWriter()\n",
    "for e in range(EPOCHS):\n",
    "    running_loss = 0\n",
    "    for images, labels in xy_trainPT_loader:\n",
    "        images = images.view(images.shape[0], -1)\n",
    "        output = modelPT(images)\n",
    "        loss = criterion(output, labels)\n",
    "        loss.backward()\n",
    "        optimizer.step()\n",
    "        optimizer.zero_grad()\n",
    "        running_loss += loss.item()\n",
    "    print(\"Epoch {} - Training loss: {}\".format(e, running_loss/len(xy_trainPT_loader)))\n",
    "    writer.add_scalar(\"loss x epoch\", running_loss/len(xy_trainPT_loader), e)\n",
    "writer.close()"
   ]
  },
  {
   "cell_type": "code",
   "execution_count": 8,
   "metadata": {},
   "outputs": [
    {
     "name": "stdout",
     "output_type": "stream",
     "text": [
      "TensorFlow installation not found - running with reduced feature set.\n",
      "TensorBoard 1.15.0 at http://Hasibs-MacBook-Pro.local:6006/ (Press CTRL+C to quit)\n",
      "^C\n"
     ]
    }
   ],
   "source": [
    "!tensorboard --logdir=runs"
   ]
  },
  {
   "cell_type": "code",
   "execution_count": null,
   "metadata": {},
   "outputs": [],
   "source": []
  }
 ],
 "metadata": {
  "kernelspec": {
   "display_name": "dev",
   "language": "python",
   "name": "python3"
  },
  "language_info": {
   "codemirror_mode": {
    "name": "ipython",
    "version": 3
   },
   "file_extension": ".py",
   "mimetype": "text/x-python",
   "name": "python",
   "nbconvert_exporter": "python",
   "pygments_lexer": "ipython3",
   "version": "3.8.13"
  }
 },
 "nbformat": 4,
 "nbformat_minor": 2
}
